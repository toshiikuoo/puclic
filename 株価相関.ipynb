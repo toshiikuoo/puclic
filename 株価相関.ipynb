{
  "nbformat": 4,
  "nbformat_minor": 0,
  "metadata": {
    "colab": {
      "name": "株価相関",
      "provenance": [],
      "collapsed_sections": [],
      "include_colab_link": true
    },
    "kernelspec": {
      "name": "python3",
      "display_name": "Python 3"
    }
  },
  "cells": [
    {
      "cell_type": "markdown",
      "metadata": {
        "id": "view-in-github",
        "colab_type": "text"
      },
      "source": [
        "<a href=\"https://colab.research.google.com/github/toshiikuoo/puclic/blob/master/%E6%A0%AA%E4%BE%A1%E7%9B%B8%E9%96%A2.ipynb\" target=\"_parent\"><img src=\"https://colab.research.google.com/assets/colab-badge.svg\" alt=\"Open In Colab\"/></a>"
      ]
    },
    {
      "cell_type": "code",
      "metadata": {
        "id": "thanFoLIc8KS",
        "colab_type": "code",
        "outputId": "5c31840f-1482-4b63-b96f-1de0ddeffdc9",
        "colab": {
          "base_uri": "https://localhost:8080/",
          "height": 457
        }
      },
      "source": [
        "#必要なライブラリimport\n",
        "!pip install lxml html5lib beautifulsoup4\n",
        "\n",
        "import pandas as pd\n",
        "from pandas import Series,DataFrame\n",
        "from pandas_datareader import DataReader\n",
        "\n",
        "import numpy as np\n",
        "\n",
        "from datetime import datetime\n",
        "\n",
        "from scipy.stats.stats import pearsonr\n",
        "import itertools\n",
        "\n",
        "# Install yfinance package.\n",
        "!pip install yfinance\n",
        " \n",
        "# Import yfinance\n",
        "import yfinance as yf  "
      ],
      "execution_count": 1,
      "outputs": [
        {
          "output_type": "stream",
          "text": [
            "Requirement already satisfied: lxml in /usr/local/lib/python3.6/dist-packages (4.2.6)\n",
            "Requirement already satisfied: html5lib in /usr/local/lib/python3.6/dist-packages (1.0.1)\n",
            "Requirement already satisfied: beautifulsoup4 in /usr/local/lib/python3.6/dist-packages (4.6.3)\n",
            "Requirement already satisfied: webencodings in /usr/local/lib/python3.6/dist-packages (from html5lib) (0.5.1)\n",
            "Requirement already satisfied: six>=1.9 in /usr/local/lib/python3.6/dist-packages (from html5lib) (1.12.0)\n",
            "Collecting yfinance\n",
            "  Downloading https://files.pythonhosted.org/packages/85/56/5e26c150517acbdce8e31d3e6169530e102a0575f5eb1a4310753e53a424/yfinance-0.1.50.tar.gz\n",
            "Requirement already satisfied: pandas>=0.24 in /usr/local/lib/python3.6/dist-packages (from yfinance) (0.25.3)\n",
            "Requirement already satisfied: numpy>=1.15 in /usr/local/lib/python3.6/dist-packages (from yfinance) (1.17.3)\n",
            "Requirement already satisfied: requests>=2.20 in /usr/local/lib/python3.6/dist-packages (from yfinance) (2.21.0)\n",
            "Requirement already satisfied: multitasking>=0.0.7 in /usr/local/lib/python3.6/dist-packages (from yfinance) (0.0.9)\n",
            "Requirement already satisfied: python-dateutil>=2.6.1 in /usr/local/lib/python3.6/dist-packages (from pandas>=0.24->yfinance) (2.6.1)\n",
            "Requirement already satisfied: pytz>=2017.2 in /usr/local/lib/python3.6/dist-packages (from pandas>=0.24->yfinance) (2018.9)\n",
            "Requirement already satisfied: chardet<3.1.0,>=3.0.2 in /usr/local/lib/python3.6/dist-packages (from requests>=2.20->yfinance) (3.0.4)\n",
            "Requirement already satisfied: urllib3<1.25,>=1.21.1 in /usr/local/lib/python3.6/dist-packages (from requests>=2.20->yfinance) (1.24.3)\n",
            "Requirement already satisfied: certifi>=2017.4.17 in /usr/local/lib/python3.6/dist-packages (from requests>=2.20->yfinance) (2019.9.11)\n",
            "Requirement already satisfied: idna<2.9,>=2.5 in /usr/local/lib/python3.6/dist-packages (from requests>=2.20->yfinance) (2.8)\n",
            "Requirement already satisfied: six>=1.5 in /usr/local/lib/python3.6/dist-packages (from python-dateutil>=2.6.1->pandas>=0.24->yfinance) (1.12.0)\n",
            "Building wheels for collected packages: yfinance\n",
            "  Building wheel for yfinance (setup.py) ... \u001b[?25l\u001b[?25hdone\n",
            "  Created wheel for yfinance: filename=yfinance-0.1.50-py2.py3-none-any.whl size=21556 sha256=48984b9d2c25a459c790a6f67a85999c7b42a05f3d86cef1b737be63e4c50b31\n",
            "  Stored in directory: /root/.cache/pip/wheels/19/2a/e6/b4d4cc977576e18220a36866acf2f2cf7241f16af5f8795b17\n",
            "Successfully built yfinance\n",
            "Installing collected packages: yfinance\n",
            "Successfully installed yfinance-0.1.50\n"
          ],
          "name": "stdout"
        }
      ]
    },
    {
      "cell_type": "code",
      "metadata": {
        "id": "sqm_X-wFrDR_",
        "colab_type": "code",
        "outputId": "4bb048e3-4fde-41ef-8954-f678a602e38a",
        "colab": {
          "base_uri": "https://localhost:8080/",
          "height": 34
        }
      },
      "source": [
        "#S&P全銘柄のリストを作成\n",
        "url=\"https://en.wikipedia.org/wiki/List_of_S%26P_500_companies\"\n",
        "sp500_list=pd.read_html(url)[0].Symbol.values.tolist()\n",
        "len(sp500_list)"
      ],
      "execution_count": 2,
      "outputs": [
        {
          "output_type": "execute_result",
          "data": {
            "text/plain": [
              "505"
            ]
          },
          "metadata": {
            "tags": []
          },
          "execution_count": 2
        }
      ]
    },
    {
      "cell_type": "code",
      "metadata": {
        "id": "Aw_LpmPiUrTU",
        "colab_type": "code",
        "outputId": "217afee5-5b9b-4064-eab2-23857935dea3",
        "colab": {
          "base_uri": "https://localhost:8080/",
          "height": 34
        }
      },
      "source": [
        "#yahooでは銘柄シンボルの\".\"は\"-\"に変えないとエラーになるので置換\n",
        "#\".\"を含む要素を確認\n",
        "sp500_list_in=[i for i in sp500_list if \".\" in i]\n",
        "sp500_list_in"
      ],
      "execution_count": 3,
      "outputs": [
        {
          "output_type": "execute_result",
          "data": {
            "text/plain": [
              "['BRK.B', 'BF.B']"
            ]
          },
          "metadata": {
            "tags": []
          },
          "execution_count": 3
        }
      ]
    },
    {
      "cell_type": "code",
      "metadata": {
        "id": "D8G15WFJX0Fr",
        "colab_type": "code",
        "colab": {}
      },
      "source": [
        "#\".\"を\"-\"に置換\n",
        "sp500_list_yahoo=[i.replace(\".\",\"-\")for i in sp500_list]"
      ],
      "execution_count": 0,
      "outputs": []
    },
    {
      "cell_type": "code",
      "metadata": {
        "id": "i13JDEo5haLI",
        "colab_type": "code",
        "outputId": "43b4e25d-06b7-4915-9f92-e1ee9d6d3dca",
        "colab": {
          "base_uri": "https://localhost:8080/",
          "height": 34
        }
      },
      "source": [
        "#確認のため\"-\"の含まれる要素を表示\"\n",
        "sp500_list_yahoo_in=[i for i in sp500_list_yahoo if \"-\" in i]\n",
        "print(sp500_list_yahoo_in)"
      ],
      "execution_count": 5,
      "outputs": [
        {
          "output_type": "stream",
          "text": [
            "['BRK-B', 'BF-B']\n"
          ],
          "name": "stdout"
        }
      ]
    },
    {
      "cell_type": "code",
      "metadata": {
        "id": "lmV88laas3xL",
        "colab_type": "code",
        "outputId": "62d89dc5-6059-4600-fcc4-981734a29a6f",
        "colab": {
          "base_uri": "https://localhost:8080/",
          "height": 34
        }
      },
      "source": [
        "len(sp500_list_yahoo)"
      ],
      "execution_count": 6,
      "outputs": [
        {
          "output_type": "execute_result",
          "data": {
            "text/plain": [
              "505"
            ]
          },
          "metadata": {
            "tags": []
          },
          "execution_count": 6
        }
      ]
    },
    {
      "cell_type": "code",
      "metadata": {
        "colab_type": "code",
        "id": "5LG9O59jz1KV",
        "outputId": "5825ef00-0288-447a-88f0-3f10c2a4dffa",
        "colab": {
          "base_uri": "https://localhost:8080/",
          "height": 34
        }
      },
      "source": [
        "#sp500銘柄の終値を１つのDataFrameに格納\n",
        "try:\n",
        "  close_sp500_list=yf.download(sp500_list_yahoo,'2019-10-04','2019-11-01')[\"Adj Close\"]\n",
        "except KeyError:\n",
        "  print('No such key')"
      ],
      "execution_count": 7,
      "outputs": [
        {
          "output_type": "stream",
          "text": [
            "[*********************100%***********************]  505 of 505 completed\n"
          ],
          "name": "stdout"
        }
      ]
    },
    {
      "cell_type": "code",
      "metadata": {
        "id": "8hKtCRf5Xlfk",
        "colab_type": "code",
        "outputId": "89f8d3fa-8855-44af-f776-3b532915945b",
        "colab": {
          "base_uri": "https://localhost:8080/",
          "height": 34
        }
      },
      "source": [
        "len(list(itertools.combinations(sp500_list,2)))\n"
      ],
      "execution_count": 8,
      "outputs": [
        {
          "output_type": "execute_result",
          "data": {
            "text/plain": [
              "127260"
            ]
          },
          "metadata": {
            "tags": []
          },
          "execution_count": 8
        }
      ]
    },
    {
      "cell_type": "code",
      "metadata": {
        "colab_type": "code",
        "id": "3iFGD5gSH5EH",
        "colab": {}
      },
      "source": [
        "#列ごとのペアで相関を算出\n",
        "\n",
        "\n",
        "#算出した相関を入れるための辞書型作成\n",
        "correlations={}\n",
        "\n",
        "\n",
        "#相関を算出\n",
        "\n",
        "for cola,colb in itertools.combinations(sp500_list_yahoo,2):\n",
        "  nas=np.logical_or(np.isnan(close_sp500_list.loc[:,cola]),np.isnan(close_sp500_list.loc[:,colb]))\n",
        "  try:\n",
        "    correlations[cola + '__'+ colb]=pearsonr(close_sp500_list.loc[:,cola][~nas],close_sp500_list.loc[:,colb][~nas])\n",
        "  except ValueError:\n",
        "    pass\n",
        "    "
      ],
      "execution_count": 0,
      "outputs": []
    },
    {
      "cell_type": "code",
      "metadata": {
        "id": "v29NWQ9baMe2",
        "colab_type": "code",
        "outputId": "b396549f-a7de-48f3-f236-07f9d5c6b3ee",
        "colab": {
          "base_uri": "https://localhost:8080/",
          "height": 263
        }
      },
      "source": [
        "#出力された結果\"correlations\"はリスト形式なのでDataFrameに変換\n",
        "result=DataFrame.from_dict(correlations,orient='index')\n",
        "result.columns=['PCC','p-value']\n",
        "print(result.sort_values('PCC'))"
      ],
      "execution_count": 10,
      "outputs": [
        {
          "output_type": "stream",
          "text": [
            "                  PCC       p-value\n",
            "BIIB__TRV   -0.975397  2.869659e-13\n",
            "BIIB__HAS   -0.975153  3.133046e-13\n",
            "ALLE__TWTR  -0.974004  4.686860e-13\n",
            "INTC__VTR   -0.972172  8.591312e-13\n",
            "LRCX__TWTR  -0.971212  1.161760e-12\n",
            "...               ...           ...\n",
            "BMY__CELG    0.995908  3.010545e-20\n",
            "HCA__LEG     0.996207  1.523031e-20\n",
            "CNC__WCG     0.998694  1.041787e-24\n",
            "BBT__STI     0.998977  1.159837e-25\n",
            "GOOGL__GOOG  0.999658  6.000199e-30\n",
            "\n",
            "[126253 rows x 2 columns]\n"
          ],
          "name": "stdout"
        }
      ]
    },
    {
      "cell_type": "markdown",
      "metadata": {
        "id": "8V1qlWsUCWYw",
        "colab_type": "text"
      },
      "source": [
        "以下、つまづいたところ\n",
        "\n",
        "* [データが二つ未満の列があり、pearsonrが機能しない](https://colab.research.google.com/drive/1BdfWKBROd_oAsrIvP2FLNEG3tTkbWhli#scrollTo=3iFGD5gSH5EH&line=4&uniqifier=1)  \n",
        "→try exceptで無視\n",
        "\n",
        "エラーコード\n",
        "```\n",
        "#列ごとのペアで相関を算出\n",
        "\n",
        "\n",
        "\n",
        "#算出した相関を入れるための辞書型作成\n",
        "correlations={}\n",
        "\n",
        "#相関を算出\n",
        "for cola,colb in itertools.combinations(sp500_list_yahoo,2):\n",
        "  nas=np.logical_or(np.isnan(close_sp500_list.loc[:,cola]),np.isnan(close_sp500_list.loc[:,colb]))\n",
        " # try:\n",
        "  correlations[cola + '__'+ colb]=pearsonr(close_sp500_list.loc[:,cola][~nas],close_sp500_list.loc[:,colb][~nas])\n",
        "#  except ValueError:\n",
        "#    print('No such key')\n",
        "\n",
        "---------------------------------------------------------------------------\n",
        "ValueError                                Traceback (most recent call last)\n",
        "<ipython-input-18-0eb82233969b> in <module>()\n",
        "      5   nas=np.logical_or(np.isnan(close_sp500_list.loc[:,cola]),np.isnan(close_sp500_list.loc[:,colb]))\n",
        "      6  # try:\n",
        "----> 7   correlations[cola + '__'+ colb]=pearsonr(close_sp500_list.loc[:,cola][~nas],close_sp500_list.loc[:,colb][~nas])\n",
        "      8 #  except ValueError:\n",
        "      9 #    print('No such key')\n",
        "\n",
        "/usr/local/lib/python3.6/dist-packages/scipy/stats/stats.py in pearsonr(x, y)\n",
        "   3390 \n",
        "   3391     if n < 2:\n",
        "-> 3392         raise ValueError('x and y must have length at least 2.')\n",
        "   3393 \n",
        "   3394     x = np.asarray(x)\n",
        "\n",
        "ValueError: x and y must have length at least 2.\n",
        "```\n",
        "エラーの列の特定\n",
        "```\n",
        "#NaNが２つ以上の行とその数を表示\n",
        "for i in close_sp500_list:\n",
        "  if close_sp500_list.loc[:,i].isnull().sum()>1:\n",
        "    print(i)\n",
        "    print(close_sp500_list.loc[:,i].isnull().sum())\n",
        "```"
      ]
    }
  ]
}