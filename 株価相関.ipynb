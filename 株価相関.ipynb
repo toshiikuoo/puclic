{
  "nbformat": 4,
  "nbformat_minor": 0,
  "metadata": {
    "colab": {
      "name": "株価相関",
      "provenance": [],
      "collapsed_sections": [],
      "include_colab_link": true
    },
    "kernelspec": {
      "name": "python3",
      "display_name": "Python 3"
    }
  },
  "cells": [
    {
      "cell_type": "markdown",
      "metadata": {
        "id": "view-in-github",
        "colab_type": "text"
      },
      "source": [
        "<a href=\"https://colab.research.google.com/github/toshiikuoo/puclic/blob/master/%E6%A0%AA%E4%BE%A1%E7%9B%B8%E9%96%A2.ipynb\" target=\"_parent\"><img src=\"https://colab.research.google.com/assets/colab-badge.svg\" alt=\"Open In Colab\"/></a>"
      ]
    },
    {
      "cell_type": "code",
      "metadata": {
        "id": "thanFoLIc8KS",
        "colab_type": "code",
        "colab": {
          "base_uri": "https://localhost:8080/",
          "height": 105
        },
        "outputId": "857fc922-9cc8-40d9-93da-3120121dc32b"
      },
      "source": [
        "#必要なライブラリimport\n",
        "!pip install lxml html5lib beautifulsoup4\n",
        "\n",
        "import pandas as pd\n",
        "from pandas import Series,DataFrame\n",
        "from pandas_datareader import DataReader\n",
        "\n",
        "import numpy as np\n",
        "\n",
        "from datetime import datetime\n",
        "\n",
        "from scipy.stats.stats import pearsonr\n",
        "import itertools"
      ],
      "execution_count": 26,
      "outputs": [
        {
          "output_type": "stream",
          "text": [
            "Requirement already satisfied: lxml in /usr/local/lib/python3.6/dist-packages (4.2.6)\n",
            "Requirement already satisfied: html5lib in /usr/local/lib/python3.6/dist-packages (1.0.1)\n",
            "Requirement already satisfied: beautifulsoup4 in /usr/local/lib/python3.6/dist-packages (4.6.3)\n",
            "Requirement already satisfied: six>=1.9 in /usr/local/lib/python3.6/dist-packages (from html5lib) (1.12.0)\n",
            "Requirement already satisfied: webencodings in /usr/local/lib/python3.6/dist-packages (from html5lib) (0.5.1)\n"
          ],
          "name": "stdout"
        }
      ]
    },
    {
      "cell_type": "code",
      "metadata": {
        "id": "sqm_X-wFrDR_",
        "colab_type": "code",
        "colab": {
          "base_uri": "https://localhost:8080/",
          "height": 228
        },
        "outputId": "b7cbbd49-7593-4385-fbd7-c81c5741b022"
      },
      "source": [
        "#S&P全銘柄のリストを作成\n",
        "url=\"https://en.wikipedia.org/wiki/List_of_S%26P_500_companies\"\n",
        "sp500_list=pd.read_html(url)[0].Symbol\n",
        "sp500_list"
      ],
      "execution_count": 61,
      "outputs": [
        {
          "output_type": "execute_result",
          "data": {
            "text/plain": [
              "0       MMM\n",
              "1       ABT\n",
              "2      ABBV\n",
              "3      ABMD\n",
              "4       ACN\n",
              "       ... \n",
              "500     XYL\n",
              "501     YUM\n",
              "502     ZBH\n",
              "503    ZION\n",
              "504     ZTS\n",
              "Name: Symbol, Length: 505, dtype: object"
            ]
          },
          "metadata": {
            "tags": []
          },
          "execution_count": 61
        }
      ]
    },
    {
      "cell_type": "code",
      "metadata": {
        "id": "O1QmZvrgstvN",
        "colab_type": "code",
        "colab": {}
      },
      "source": [
        "sp500_list_first=sp500_list[0]"
      ],
      "execution_count": 0,
      "outputs": []
    },
    {
      "cell_type": "code",
      "metadata": {
        "id": "5S-HMnHOstyO",
        "colab_type": "code",
        "colab": {}
      },
      "source": [
        "#銘柄シンボルのみを取り出したSeriesを作成\n",
        "sp500_symbol=sp500_list_first[\"Symbol\"]"
      ],
      "execution_count": 0,
      "outputs": []
    },
    {
      "cell_type": "code",
      "metadata": {
        "id": "ig6hDEApst2R",
        "colab_type": "code",
        "colab": {}
      },
      "source": [
        "#listに変換\n",
        "sp500_symbol_list=sp500_symbol.values.tolist()"
      ],
      "execution_count": 0,
      "outputs": []
    },
    {
      "cell_type": "code",
      "metadata": {
        "id": "Aw_LpmPiUrTU",
        "colab_type": "code",
        "outputId": "6c41a747-1b75-42e3-e043-771acb0ff1e1",
        "colab": {
          "base_uri": "https://localhost:8080/",
          "height": 34
        }
      },
      "source": [
        "#yahooでは銘柄シンボルの\".\"は\"-\"に変えないとエラーになるので置換\n",
        "#\".\"を含む要素を確認\n",
        "sp500_symbol_list_in=[i for i in sp500_symbol_list if \".\" in i]\n",
        "sp500_symbol_list_in"
      ],
      "execution_count": 31,
      "outputs": [
        {
          "output_type": "execute_result",
          "data": {
            "text/plain": [
              "['BRK.B', 'BF.B']"
            ]
          },
          "metadata": {
            "tags": []
          },
          "execution_count": 31
        }
      ]
    },
    {
      "cell_type": "code",
      "metadata": {
        "id": "D8G15WFJX0Fr",
        "colab_type": "code",
        "colab": {}
      },
      "source": [
        "#\".\"を\"-\"に置換\n",
        "sp500_symbol_list_yahoo=[i.replace(\".\",\"-\")for i in sp500_symbol_list]"
      ],
      "execution_count": 0,
      "outputs": []
    },
    {
      "cell_type": "code",
      "metadata": {
        "id": "i13JDEo5haLI",
        "colab_type": "code",
        "outputId": "f06efa57-fb42-4bfc-be15-38220c7d548d",
        "colab": {
          "base_uri": "https://localhost:8080/",
          "height": 34
        }
      },
      "source": [
        "#確認のため\"-\"の含まれる要素を表示\"\n",
        "sp500_symbol_list_yahoo_in=[i for i in sp500_symbol_list_yahoo if \"-\" in i]\n",
        "print(sp500_symbol_list_yahoo_in)"
      ],
      "execution_count": 34,
      "outputs": [
        {
          "output_type": "stream",
          "text": [
            "['BRK-B', 'BF-B']\n"
          ],
          "name": "stdout"
        }
      ]
    },
    {
      "cell_type": "code",
      "metadata": {
        "colab_type": "code",
        "id": "5LG9O59jz1KV",
        "outputId": "1ad9b4ea-3008-4d56-eb3c-b98e289ccae1",
        "colab": {
          "base_uri": "https://localhost:8080/",
          "height": 34
        }
      },
      "source": [
        "#sp500銘柄の終値を１つのDataFrameに格納\n",
        "try:\n",
        "  close_sp500_list=DataReader(sp500_symbol_list_yahoo,'yahoo',datetime(2019, 9, 26, 7, 10, 37, 334315),datetime(2019, 10, 26, 7, 10, 37, 334315),)[\"Adj Close\"]\n",
        "except KeyError:\n",
        "  print('No such key')"
      ],
      "execution_count": 39,
      "outputs": [
        {
          "output_type": "stream",
          "text": [
            "No such key\n"
          ],
          "name": "stdout"
        }
      ]
    },
    {
      "cell_type": "code",
      "metadata": {
        "id": "q4HPQshedFL2",
        "colab_type": "code",
        "colab": {
          "base_uri": "https://localhost:8080/",
          "height": 34
        },
        "outputId": "6df05cd6-5343-4865-c1f2-a91b43b3dfc9"
      },
      "source": [
        "#株のシンボルのlistを作成\n",
        "columns=close_sp500_list.columns.to_list()\n",
        "len(columns)"
      ],
      "execution_count": 55,
      "outputs": [
        {
          "output_type": "execute_result",
          "data": {
            "text/plain": [
              "55"
            ]
          },
          "metadata": {
            "tags": []
          },
          "execution_count": 55
        }
      ]
    },
    {
      "cell_type": "code",
      "metadata": {
        "id": "8hKtCRf5Xlfk",
        "colab_type": "code",
        "colab": {
          "base_uri": "https://localhost:8080/",
          "height": 34
        },
        "outputId": "9aa9cbfb-cfac-44fc-ef45-d27459a8ef7d"
      },
      "source": [
        "len(list(itertools.combinations(columns,2)))"
      ],
      "execution_count": 53,
      "outputs": [
        {
          "output_type": "execute_result",
          "data": {
            "text/plain": [
              "1485"
            ]
          },
          "metadata": {
            "tags": []
          },
          "execution_count": 53
        }
      ]
    },
    {
      "cell_type": "code",
      "metadata": {
        "id": "Jf40N-1yHhPS",
        "colab_type": "code",
        "colab": {}
      },
      "source": [
        "#列ごとのペアで相関を算出\n",
        "\n",
        "\n",
        "\n",
        "#算出した相関を入れるための辞書型作成\n",
        "correlations={}\n",
        "\n",
        "#相関を算出\n",
        "for cola,colb in itertools.combinations(columns,2):\n",
        "  nas=np.logical_or(np.isnan(close_sp500_list.loc[:,cola]),np.isnan(close_sp500_list.loc[:,colb]))\n",
        "  correlations[cola + '__'+ colb]=pearsonr(close_sp500_list.loc[:,cola][~nas],close_sp500_list.loc[:,colb][~nas])"
      ],
      "execution_count": 0,
      "outputs": []
    },
    {
      "cell_type": "code",
      "metadata": {
        "id": "v29NWQ9baMe2",
        "colab_type": "code",
        "colab": {
          "base_uri": "https://localhost:8080/",
          "height": 263
        },
        "outputId": "2c785cd7-2cd8-4613-8d9d-92dab2ecfa30"
      },
      "source": [
        "#出力された結果\"correlations\"はリスト形式なのでDataFrameに変換\n",
        "result=DataFrame.from_dict(correlations,orient='index')\n",
        "result.columns=['PCC','p-value']\n",
        "print(result.sort_values('PCC'))"
      ],
      "execution_count": 41,
      "outputs": [
        {
          "output_type": "stream",
          "text": [
            "                 PCC       p-value\n",
            "TRV__VRTX  -0.885004  4.504950e-08\n",
            "TRV__WCG   -0.850925  5.209412e-07\n",
            "VRTX__YUM  -0.849500  5.693920e-07\n",
            "VRSK__VRTX -0.842442  8.730565e-07\n",
            "UAA__YUM   -0.827421  2.031590e-06\n",
            "...              ...           ...\n",
            "UNP__XYL    0.966105  3.140892e-13\n",
            "URI__WY     0.969397  1.145911e-13\n",
            "URI__XYL    0.970509  7.951287e-14\n",
            "UNP__UTX    0.977705  4.996477e-15\n",
            "UAA__UA     0.992748  7.047567e-20\n",
            "\n",
            "[1485 rows x 2 columns]\n"
          ],
          "name": "stdout"
        }
      ]
    },
    {
      "cell_type": "code",
      "metadata": {
        "id": "oOrrfbE-rbdT",
        "colab_type": "code",
        "colab": {}
      },
      "source": [
        ""
      ],
      "execution_count": 0,
      "outputs": []
    }
  ]
}