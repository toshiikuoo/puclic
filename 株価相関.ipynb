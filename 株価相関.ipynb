{
  "nbformat": 4,
  "nbformat_minor": 0,
  "metadata": {
    "colab": {
      "name": "株価相関",
      "provenance": [],
      "collapsed_sections": [],
      "include_colab_link": true
    },
    "kernelspec": {
      "name": "python3",
      "display_name": "Python 3"
    }
  },
  "cells": [
    {
      "cell_type": "markdown",
      "metadata": {
        "id": "view-in-github",
        "colab_type": "text"
      },
      "source": [
        "<a href=\"https://colab.research.google.com/github/toshiikuoo/puclic/blob/master/%E6%A0%AA%E4%BE%A1%E7%9B%B8%E9%96%A2.ipynb\" target=\"_parent\"><img src=\"https://colab.research.google.com/assets/colab-badge.svg\" alt=\"Open In Colab\"/></a>"
      ]
    },
    {
      "cell_type": "code",
      "metadata": {
        "id": "thanFoLIc8KS",
        "colab_type": "code",
        "colab": {}
      },
      "source": [
        "#必要なライブラリimport\n",
        "import pandas as pd\n",
        "from pandas import Series,DataFrame\n",
        "from pandas_datareader import DataReader\n",
        "\n",
        "import numpy as np\n",
        "\n",
        "from datetime import datetime\n",
        "\n",
        "import matplotlib as mat\n",
        "import matplotlib.pyplot as plt\n",
        "%matplotlib inline\n",
        "\n",
        "import seaborn as sns\n",
        "sns.set_style('whitegrid')\n",
        "\n",
        "from scipy.stats.stats import pearsonr\n",
        "import itertools\n",
        "\n"
      ],
      "execution_count": 0,
      "outputs": []
    },
    {
      "cell_type": "code",
      "metadata": {
        "id": "sqm_X-wFrDR_",
        "colab_type": "code",
        "colab": {}
      },
      "source": [
        "#S&P全銘柄のリストを作成\n",
        "url=\"https://en.wikipedia.org/wiki/List_of_S%26P_500_companies\"\n",
        "sp500_list=pd.io.html.read_html(url)"
      ],
      "execution_count": 0,
      "outputs": []
    },
    {
      "cell_type": "code",
      "metadata": {
        "id": "O1QmZvrgstvN",
        "colab_type": "code",
        "colab": {}
      },
      "source": [
        "sp500_list_first=sp500_list[0]"
      ],
      "execution_count": 0,
      "outputs": []
    },
    {
      "cell_type": "code",
      "metadata": {
        "id": "5S-HMnHOstyO",
        "colab_type": "code",
        "colab": {}
      },
      "source": [
        "#銘柄シンボルのみを取り出したSeriesを作成\n",
        "sp500_symbol=sp500_list_first[\"Symbol\"]"
      ],
      "execution_count": 0,
      "outputs": []
    },
    {
      "cell_type": "code",
      "metadata": {
        "id": "ig6hDEApst2R",
        "colab_type": "code",
        "colab": {}
      },
      "source": [
        "#listに変換\n",
        "sp500_symbol_list=sp500_symbol.values.tolist()"
      ],
      "execution_count": 0,
      "outputs": []
    },
    {
      "cell_type": "code",
      "metadata": {
        "id": "Aw_LpmPiUrTU",
        "colab_type": "code",
        "colab": {}
      },
      "source": [
        "#yahooでは銘柄シンボルの\".\"は\"-\"に変えないとエラーになるので置換\n",
        "#\".\"を含む要素を確認\n",
        "sp500_symbol_list_in=[i for i in sp500_symbol_list if \".\" in i]"
      ],
      "execution_count": 0,
      "outputs": []
    },
    {
      "cell_type": "code",
      "metadata": {
        "id": "D8G15WFJX0Fr",
        "colab_type": "code",
        "colab": {}
      },
      "source": [
        "#\".\"を\"-\"に置換\n",
        "sp500_symbol_list_yahoo=[i.replace(\".\",\"-\")for i in sp500_symbol_list]"
      ],
      "execution_count": 0,
      "outputs": []
    },
    {
      "cell_type": "code",
      "metadata": {
        "id": "i13JDEo5haLI",
        "colab_type": "code",
        "outputId": "de707b45-a8a1-428a-a612-ae005eae4abe",
        "colab": {
          "base_uri": "https://localhost:8080/",
          "height": 34
        }
      },
      "source": [
        "#確認のため\"-\"の含まれる要素を表示\"\n",
        "sp500_symbol_list_yahoo_in=[i for i in sp500_symbol_list_yahoo if \"-\" in i]\n",
        "print(sp500_symbol_list_yahoo_in)"
      ],
      "execution_count": 8,
      "outputs": [
        {
          "output_type": "stream",
          "text": [
            "['BRK-B', 'BF-B']\n"
          ],
          "name": "stdout"
        }
      ]
    },
    {
      "cell_type": "code",
      "metadata": {
        "colab_type": "code",
        "id": "5LG9O59jz1KV",
        "colab": {}
      },
      "source": [
        "#sp500銘柄の終値を１つのDataFrameに格納\n",
        "close_sp500_list=DataReader(sp500_symbol_list_yahoo,'yahoo',datetime(2019, 9, 26, 7, 10, 37, 334315),datetime(2019, 10, 26, 7, 10, 37, 334315),)[\"Adj Close\"]"
      ],
      "execution_count": 0,
      "outputs": []
    },
    {
      "cell_type": "code",
      "metadata": {
        "id": "MQOi6eNjXSXz",
        "colab_type": "code",
        "colab": {}
      },
      "source": [
        "#株のシンボルのlistを作成\n",
        "columns=close_sp500_list.columns.to_list()"
      ],
      "execution_count": 0,
      "outputs": []
    },
    {
      "cell_type": "code",
      "metadata": {
        "id": "skwvtWE9Q-By",
        "colab_type": "code",
        "colab": {}
      },
      "source": [
        "#すべての株のペアの組み合わせを出力\n",
        "print(list(itertools.combinations(columns,2)))"
      ],
      "execution_count": 0,
      "outputs": []
    },
    {
      "cell_type": "code",
      "metadata": {
        "id": "I3Nm5K-CaOxo",
        "colab_type": "code",
        "colab": {}
      },
      "source": [
        "correlations={}"
      ],
      "execution_count": 0,
      "outputs": []
    },
    {
      "cell_type": "code",
      "metadata": {
        "id": "Jf40N-1yHhPS",
        "colab_type": "code",
        "colab": {}
      },
      "source": [
        "#列ごとのペアで相関を算出\n",
        "for cola,colb in itertools.combinations(columns,2):\n",
        "  nas=np.logical_or(np.isnan(close_sp500_list.loc[:,cola]),np.isnan(close_sp500_list.loc[:,colb]))\n",
        "  correlations[cola + '__'+ colb]=pearsonr(close_sp500_list.loc[:,cola][~nas],close_sp500_list.loc[:,colb][~nas])"
      ],
      "execution_count": 0,
      "outputs": []
    },
    {
      "cell_type": "code",
      "metadata": {
        "id": "v29NWQ9baMe2",
        "colab_type": "code",
        "colab": {}
      },
      "source": [
        "#出力された結果\"correlations\"はリスト形式なのでDataFrameに変換\n",
        "result=DataFrame.from_dict(correlations,orient='index')\n",
        "result.columns=['PCC','p-value']\n",
        "print(result.sort_values('PCC'))"
      ],
      "execution_count": 0,
      "outputs": []
    },
    {
      "cell_type": "code",
      "metadata": {
        "id": "oOrrfbE-rbdT",
        "colab_type": "code",
        "colab": {}
      },
      "source": [
        ""
      ],
      "execution_count": 0,
      "outputs": []
    }
  ]
}